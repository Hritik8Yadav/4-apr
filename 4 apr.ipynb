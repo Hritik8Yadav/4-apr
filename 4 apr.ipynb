{
 "cells": [
  {
   "cell_type": "code",
   "execution_count": null,
   "id": "7fba443f-c97f-4be9-8417-0294d1b5dba3",
   "metadata": {},
   "outputs": [],
   "source": [
    "'''Ans1: The decision trees is a type of tree used in machine learning for making the prediction according to the \n",
    "         given situation of the parameters. \n",
    "         \n",
    "         It involves the tree of features which has certain negative and positive\n",
    "         values and we make the tree of if and else like condition where if certain codition is true then what will \n",
    "         happen.\n",
    "'''"
   ]
  },
  {
   "cell_type": "code",
   "execution_count": null,
   "id": "96d397cd-bd68-4db1-85ac-c1166faa0efb",
   "metadata": {},
   "outputs": [],
   "source": [
    "'''Ans2: The decision trees are made using some mathematical calculation which involves calculation of purity i.e.\n",
    "         need of further classificaiton, Information gain, etc. The classification is done through two techniques\n",
    "         \n",
    "         i. Entropy\n",
    "         ii. Gini Impuritiy\n",
    "         \n",
    "         In Entropy we calculathe the entropy value and then if the value is 1 there is further classification of the\n",
    "         parent node and if the entropy value is 0 then the node will be leaf node.\n",
    "             \n",
    "                following formula is used for entropy calculation: \n",
    "                        \n",
    "                        H(S) = -P(+)log2P(+) - P(-)log2P(-)\n",
    "                            \n",
    "                            where P(+) is probablity of positive outcome\n",
    "                                  P(-) is probablity of negative outcome\n",
    "        \n",
    "        In Gini Impurity we calculate the value of Gini then if the value is 0.5 then further classificaiton is done\n",
    "        if not then node is leaf.\n",
    "                    \n",
    "                    formula is \n",
    "                                \n",
    "                                G.I. = 1 - (sum of i from 1 to n(P)²)\n",
    "'''"
   ]
  },
  {
   "cell_type": "code",
   "execution_count": null,
   "id": "baddf303-3a40-4540-971b-c2c4f4044759",
   "metadata": {},
   "outputs": [],
   "source": [
    "'''Ans3: The decision tree is helpful in solving the binary classification problem as it firstly sketch a tree\n",
    "         like structure where the internal nodes are the features and the branch are the decision rule for getting\n",
    "         the nodes or classification.\n",
    "         The decision tree mainly involves following steps for binary classification:\n",
    "         \n",
    "            i. creating the data into tabular form\n",
    "            ii. creating the binary tree using the entropy and gini impurity method \n",
    "            iii. assigning the class to leaf node\n",
    "            iv. predicition or classification.\n",
    "            v. performance evaluation using confusion matrix.\n",
    "'''"
   ]
  },
  {
   "cell_type": "code",
   "execution_count": null,
   "id": "1bf8990b-329a-448c-bd00-012f04dfc411",
   "metadata": {},
   "outputs": [],
   "source": [
    "'''Ans4: The decision tree is used for the classification problem when there are many features involved and the \n",
    "         decision is to be taken after considering every feature. It involves the conditional statements\n",
    "         and these coditional statements are converted into the decision tree which has leaf nodes and the parent nodes.\n",
    "         The firstly the root node is checked and then the child of root node is checked the child node having the true \n",
    "         condition is taken this process is repeated untill we get the classification.\n",
    "'''"
   ]
  },
  {
   "cell_type": "code",
   "execution_count": null,
   "id": "80f41b4b-e537-4497-9877-b67fa1192106",
   "metadata": {},
   "outputs": [],
   "source": [
    "'''Ans5: The confusion matrix is the matrix which is used for evaluation of the accuracy or the prediction accuracy\n",
    "         of any outcome from the algorithm. In the confusion matrix a matrix of 2 X 2 is created which have\n",
    "         the value of False positive, false negative, true positive, true negative. All these values are evaluated\n",
    "         from the test data of the model. \n",
    "         \n",
    "         The various situation is taken according to the priority given to the values in the matrix the values which\n",
    "         is need to reduce.\n",
    "'''"
   ]
  },
  {
   "cell_type": "code",
   "execution_count": null,
   "id": "698ebb95-aed1-40f4-85c2-49d28490b4bf",
   "metadata": {},
   "outputs": [],
   "source": [
    "'''Ans6: The example of diabitic can be taken into the confusion matrix which has values:\n",
    "            \n",
    "            TP = person has diabetic and is classified into the diabetic\n",
    "            FP = person isn't diabetic and is classified into the diabetic\n",
    "            TN = person is diabetic and isn't classified into the diabetic\n",
    "            FN = person isn't diabetic and isn't classified into the diabetic.\n",
    "        \n",
    "        precision:- It can be easily calculated using the ratio of TP and sum of TP and FP \n",
    "                    (ratio of how many correctly predicted to the all actual prediction)\n",
    "        \n",
    "        recall:- It can be calculated using the ratio of TP and sum of TP and TN.\n",
    "                 (ratio of how many correctly predicted to the all predicted values)\n",
    "        \n",
    "        f1 score:- (1+ß²) (precision x recall)/(precision+recall)\n",
    "'''"
   ]
  },
  {
   "cell_type": "code",
   "execution_count": 1,
   "id": "c1e20be2-f54b-445d-9ec8-6cfd02f4dac9",
   "metadata": {},
   "outputs": [
    {
     "data": {
      "text/plain": [
       "\"Ans7: The situation in which precision is important involves the reduction in the false positive value of the \\n         confusion matrix we can take the example of the taking umbrella prediction according to the raining situation\\n         if our model will predict that there is no rain and you didn't take umbrella while the prediction is not \\n         accurate and there will be the rain this situation is not desirable for us as if the model predict there is rain\\n         and still the rain comes this situation can be handled as the umbrella is not so heavy to carry.\\n\""
      ]
     },
     "execution_count": 1,
     "metadata": {},
     "output_type": "execute_result"
    }
   ],
   "source": [
    "'''Ans7: The situation in which precision is important involves the reduction in the false positive value of the \n",
    "         confusion matrix we can take the example of the taking umbrella prediction according to the raining situation\n",
    "         if our model will predict that there is no rain and you didn't take umbrella while the prediction is not \n",
    "         accurate and there will be the rain this situation is not desirable for us as if the model predict there is rain\n",
    "         and still the rain comes this situation can be handled as the umbrella is not so heavy to carry.\n",
    "         \n",
    "         So in the above situation the precision value becomes vary important.\n",
    "'''"
   ]
  },
  {
   "cell_type": "code",
   "execution_count": null,
   "id": "b9d61a4a-22e3-4100-8c4b-3aaa716760c8",
   "metadata": {},
   "outputs": [],
   "source": [
    "'''Ans8: The recall value is dependent on the TN the lesser will be the value of the TN the larger will be value of\n",
    "         recall  the recall is important where the value of TN is very sensitive and need to handle carfully.\n",
    "         Such as in case of diabitic person the person who is not having diabitic when predicted diabitic can redo \n",
    "         the checkup and isn't issue at all. while if the person is diabitic and prediction is non diabitic this \n",
    "         situation isn't good for him as he will not take the diabitic test hence making the mistake.\n",
    "         \n",
    "         So in the above situation the recall value becomes very important.\n",
    "'''"
   ]
  }
 ],
 "metadata": {
  "kernelspec": {
   "display_name": "Python 3 (ipykernel)",
   "language": "python",
   "name": "python3"
  },
  "language_info": {
   "codemirror_mode": {
    "name": "ipython",
    "version": 3
   },
   "file_extension": ".py",
   "mimetype": "text/x-python",
   "name": "python",
   "nbconvert_exporter": "python",
   "pygments_lexer": "ipython3",
   "version": "3.10.8"
  }
 },
 "nbformat": 4,
 "nbformat_minor": 5
}
